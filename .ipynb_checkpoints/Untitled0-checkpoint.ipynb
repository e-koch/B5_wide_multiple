{
 "metadata": {
  "name": "",
  "signature": "sha256:0734c9b4fd62e17e167114ac77f58400250efa409740493e919eccc627515c50"
 },
 "nbformat": 3,
 "nbformat_minor": 0,
 "worksheets": [
  {
   "cells": [
    {
     "cell_type": "code",
     "collapsed": false,
     "input": [
      "%matplotlib inline\n",
      "import numpy as np\n",
      "\n",
      "import aplpy\n",
      "\n",
      "import matplotlib.pyplot as plt\n",
      "from matplotlib import rc\n",
      "\n",
      "#rc('font',**{'family':'sans-serif','sans-serif':['Helvetica']})\n",
      "rc('text', usetex=True)"
     ],
     "language": "python",
     "metadata": {},
     "outputs": [],
     "prompt_number": 9
    },
    {
     "cell_type": "code",
     "collapsed": false,
     "input": [
      "fig, ax = plt.subplots(1, 2, figsize=(7.2,3))\n",
      "ax[0].plot([0.1,0.4,1.0], [2.3,10.,40], label='B5-Cond1', color='red')\n",
      "ax[0].text( 0.5, 25, \"$\\\\rho\\\\propto r^{-2}$\",fontsize=14)"
     ],
     "language": "python",
     "metadata": {},
     "outputs": [
      {
       "metadata": {},
       "output_type": "pyout",
       "prompt_number": 11,
       "text": [
        "<matplotlib.text.Text at 0x1149e1e90>"
       ]
      },
      {
       "metadata": {},
       "output_type": "display_data",
       "png": "[encoded data removed]",
       "text": [
        "<matplotlib.figure.Figure at 0x114704c90>"
       ]
      }
     ],
     "prompt_number": 11
    },
    {
     "cell_type": "code",
     "collapsed": false,
     "input": [],
     "language": "python",
     "metadata": {},
     "outputs": []
    }
   ],
   "metadata": {}
  }
 ]
}