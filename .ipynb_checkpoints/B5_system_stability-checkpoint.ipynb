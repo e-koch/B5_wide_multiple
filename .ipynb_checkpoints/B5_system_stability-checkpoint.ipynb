{
 "metadata": {
  "name": "",
  "signature": "sha256:d5095642f882b7231ad193046d7d0cf8d810531b9dabc8876098a1a40571223e"
 },
 "nbformat": 3,
 "nbformat_minor": 0,
 "worksheets": [
  {
   "cells": [
    {
     "cell_type": "code",
     "collapsed": false,
     "input": [
      "%matplotlib inline\n",
      "import numpy as np\n",
      "import astropy.units as u\n",
      "from astropy.units import cds\n",
      "cds.enable\n",
      "\n",
      "import matplotlib.pyplot as plt"
     ],
     "language": "python",
     "metadata": {},
     "outputs": [],
     "prompt_number": 1
    },
    {
     "cell_type": "heading",
     "level": 1,
     "metadata": {},
     "source": [
      "Multiple system parameters"
     ]
    },
    {
     "cell_type": "markdown",
     "metadata": {},
     "source": [
      "Set relative positions and velocities for all 4 stellar objects. Mass of stellar outcome is estimated using an efficiency of $0.3$ and each condensation mass.\n",
      "\n",
      "The mass unit is $M_\\odot$, the position unit is $au$, and the velocity unit is km s$^{-1}$."
     ]
    },
    {
     "cell_type": "code",
     "collapsed": false,
     "input": [
      "# YSO, Cond1, Cond2, Cond3\n",
      "eff=0.3\n",
      "mass=np.array([0.1, eff*0.362, eff*0.26, eff*0.3])\n",
      "x_au=np.array([0.0,-8251.1, 248.9, 3873.9])\n",
      "y_au=np.array([0.0, 7934.9,3309.9,-3315.1])\n",
      "z_au=np.array([0.0,    0.0,   0.0,    0.0])\n",
      "v_c=np.array([10.21,  10.43, 10.23,  10.30])"
     ],
     "language": "python",
     "metadata": {},
     "outputs": [],
     "prompt_number": 2
    },
    {
     "cell_type": "markdown",
     "metadata": {},
     "source": [
      "The center of mass ($\\vec{r}_{com}$ and $\\vec{v}_{com}$) is calculated as \n",
      "$$\\vec{r}_{com} = \\frac{ 1}{\\Sigma_i m_i} \\Sigma_i \\vec{r}_i m_i$$\n",
      "$$\\vec{v}_{com} = \\frac{ 1}{\\Sigma_i m_i} \\Sigma_i \\vec{v}_i m_i.$$"
     ]
    },
    {
     "cell_type": "code",
     "collapsed": false,
     "input": [
      "x_com= np.sum(x_au*mass)/np.sum(mass)\n",
      "y_com= np.sum(y_au*mass)/np.sum(mass)\n",
      "z_com= np.sum(z_au*mass)/np.sum(mass)\n",
      "v_com= np.sum(v_c*mass)/np.sum(mass)\n",
      "print 'r_com = ', (np.array([x_com,y_com,z_com])*u.au).to(u.m)\n",
      "print 'v_com = ', v_com, 'km/s'"
     ],
     "language": "python",
     "metadata": {},
     "outputs": [
      {
       "output_type": "stream",
       "stream": "stdout",
       "text": [
        "r_com =  [ -2.09740608e+14   3.26343957e+14   0.00000000e+00] m\n",
        "v_com =  10.2990918747 km/s\n"
       ]
      }
     ],
     "prompt_number": 3
    },
    {
     "cell_type": "markdown",
     "metadata": {},
     "source": [
      "Display system configuration"
     ]
    },
    {
     "cell_type": "code",
     "collapsed": false,
     "input": [
      "fig=plt.figure( figsize=( 4.0, 4.0) )\n",
      "ax= plt.subplot()\n",
      "color_sym=['red','blue','green','orange']\n",
      "plt.scatter( x_au[0], y_au[0], color=color_sym[0], s=100, marker='*')\n",
      "plt.scatter( x_au[1:4], y_au[1:4], color=color_sym[1:4], s=100, marker='o', edgecolor='k')\n",
      "plt.scatter( x_com, y_com, color='black', marker='+', s=100)\n",
      "\n",
      "plt.setp( ax, xlabel=\"x (au)\")\n",
      "plt.setp( ax, ylabel=\"y (au)\")\n",
      "\n",
      "plt.xlim(1e4, -1e4)\n",
      "plt.ylim(-1e4, 1e4)\n",
      "ax.locator_params(axis = 'both', nbins = 5)"
     ],
     "language": "python",
     "metadata": {},
     "outputs": [
      {
       "metadata": {},
       "output_type": "display_data",
       "png": "[encoded data removed]",
       "text": [
        "<matplotlib.figure.Figure at 0x110bca990>"
       ]
      }
     ],
     "prompt_number": 4
    },
    {
     "cell_type": "heading",
     "level": 1,
     "metadata": {},
     "source": [
      "Is the entire system bound?"
     ]
    },
    {
     "cell_type": "markdown",
     "metadata": {},
     "source": [
      "Determine binding energy for entire system. It calculates the Kinetic and Potential energies to then determine if the system is bound. The total potential energy of the system is calculated as \n",
      "$$E_{pot, tot} = \\Sigma_{i\\ne j} \\frac{-G m_i m_j}{\\left|\\vec{r}_{i}-\\vec{r}_{j}\\right|},$$ \n",
      "while the total kinetic energy of the system is calculated as\n",
      "$$E_{kin, tot}= \\Sigma_i \\frac{m_i \\left| \\vec{v}_i -\\vec{v}_{com}\\right|^2 }{2},$$\n",
      "where $\\vec{v}_{com}$ is the velocity in the center of mass frame.\n",
      "\n",
      "The energies are all calculated and stored in MKS units (Joules)."
     ]
    },
    {
     "cell_type": "code",
     "collapsed": false,
     "input": [
      "nstars=len(x_au)\n",
      "Epot_i=np.zeros(nstars)*u.J\n",
      "Ekin_i=np.zeros(nstars)*u.J\n",
      "\n",
      "#Kinetic energy for each object\n",
      "Ekin_i = ( 0.5*mass*u.Msun* ((v_c-v_com)*u.km/u.s)**2  ).to(u.J)\n",
      "\n",
      "for i in range(nstars):\n",
      "    for j in range(nstars):\n",
      "        if i != j:\n",
      "            rij=[x_au[i]-x_au[j], y_au[i]-y_au[j], z_au[i]-z_au[j]]\n",
      "            Epot_i[i] += -( mass[i]*mass[j]/( np.linalg.norm(rij))*cds.G*u.Msun*u.Msun/u.au).to(u.J)\n",
      "print 'Ekin+Epot             Ekin              Epot'\n",
      "print np.array([(Ekin_i+Epot_i).T, Ekin_i.T, Epot_i.T]).T * Epot_i.unit"
     ],
     "language": "python",
     "metadata": {},
     "outputs": [
      {
       "output_type": "stream",
       "stream": "stdout",
       "text": [
        "Ekin+Epot             Ekin              Epot\n",
        "[[ -8.14852405e+33   7.89410351e+32  -8.93793440e+33]\n",
        " [ -2.41169871e+33   1.85092855e+33  -4.26262726e+33]\n",
        " [ -6.96334640e+33   3.70318303e+32  -7.33366470e+33]\n",
        " [ -5.79933036e+33   7.38177344e+28  -5.79940417e+33]] J\n"
       ]
      }
     ],
     "prompt_number": 5
    },
    {
     "cell_type": "markdown",
     "metadata": {},
     "source": [
      "Kinetic-Potential energy ratio for entire system (bound if <1)"
     ]
    },
    {
     "cell_type": "code",
     "collapsed": false,
     "input": [
      "print 'KE/PE ratio=',np.round(np.sum(Ekin_i)/np.abs(np.sum(Epot_i)), decimals=3)"
     ],
     "language": "python",
     "metadata": {},
     "outputs": [
      {
       "output_type": "stream",
       "stream": "stdout",
       "text": [
        "KE/PE ratio= 0.114\n"
       ]
      }
     ],
     "prompt_number": 6
    },
    {
     "cell_type": "heading",
     "level": 1,
     "metadata": {},
     "source": [
      "Determination of binary orbits"
     ]
    },
    {
     "cell_type": "markdown",
     "metadata": {},
     "source": [
      "Here we define some functions needed to calculate the binding energy:\n",
      "Calculate the binding energy of the system as\n",
      "$$E_\\textrm{bind}=M_1 M_2\\left(\\frac{(V_1 - V_2)^2}{2(M_1+M_2)}-\\frac{G}{|r_1-r_2|} \\right).$$\n",
      "\n",
      "The eccentricity is calculated as \n",
      "$$e=\\sqrt{1 + 2  \\frac{(M_1 + M_2) L_{tot}^2 E_\\textrm{bind}}{G^2 M_1^3 M_2^3}},$$\n",
      "the semi-major axis is calculated as \n",
      "$$sma = \\frac{GM_1 M_2}{2 \\left| E_\\textrm{bind} \\right|} $$\n",
      "while the period of the system is determined by\n",
      "$$per= 2\\pi \\sqrt{ \\frac{ sma^3}{G (M_1 + M_2)}}.$$"
     ]
    },
    {
     "cell_type": "code",
     "collapsed": false,
     "input": [
      "def binary_orbit(v1,v2,r1,r2,m1,m2):\n",
      "    \"\"\" Function to determine sma, per and e of a binary system\n",
      "    sma: semi-major axis. Units of m\n",
      "    per: period of the system. Units of yr.\n",
      "    e: eccentricity of the system.\n",
      "    \n",
      "    Input parameters are\n",
      "    v1 and v2: velocities for objects 1 and 2. Units of m/s\n",
      "    r1 and r2: positions for objects 1 and 2. Units of m.\n",
      "    m1 and m2: masses for objects 1 and 2. Units of kg.\n",
      "    \"\"\"\n",
      "    sma=0.0\n",
      "    per=0.0\n",
      "    e=0.0\n",
      "    Etot=0.0\n",
      "    v_ij=np.linalg.norm(v1 -v2)*v1.unit\n",
      "    r_ij=np.linalg.norm(r1 -r2)*r1.unit\n",
      "    print '|v_ij|', v_ij\n",
      "    print '|r_ij|', r_ij\n",
      "    binary_Etot= ( m1*m2*( v_ij**2/(2*(m1+m2)) - cds.G/r_ij ) ).to(u.J)\n",
      "    print 'E_bin=',binary_Etot\n",
      "    L12   =np.cross( (r1-r2), (v1-v2)) * r1.unit * v1.unit\n",
      "    L12_tot=np.linalg.norm(L12)*L12.unit * m1*m2/(m1+m2)\n",
      "    print 'Angular momentum components', L12**2\n",
      "    print 'Total angular momentum', L12_tot\n",
      "    # Determine the eccentricity of the system\n",
      "    e=np.sqrt(1. + (2.*(m1 + m2)* L12_tot**2 *binary_Etot)/( cds.G**2 * m1**3 * m2**3 ))\n",
      "    sma=( (cds.G*m1*m2)/(2.*np.abs(binary_Etot)) ).to(u.m)\n",
      "    per=( 2*np.pi*np.sqrt((sma**3)/(cds.G*(m1 + m2))) ).to(u.yr)\n",
      "    return sma,per,e,binary_Etot"
     ],
     "language": "python",
     "metadata": {},
     "outputs": [],
     "prompt_number": 7
    },
    {
     "cell_type": "markdown",
     "metadata": {},
     "source": [
      "Calculate the Valtonen stability criterion:\n",
      "$$Q_v=3\\left(1+\\frac{m_{out}}{m_{in}}\\right)^{2/3}\\left(1-e_{out}\\right)^{-1/6}\\left( \\frac{7}{4} -\\frac{1}{2}\\cos{i} - \\cos^2{i} \\right)^{1/3}.$$\n",
      "\n",
      "Systems with $a_{out}/a_{in}>Q_v$ are stable for at least $10^4$ revolutions of the outer component. "
     ]
    },
    {
     "cell_type": "code",
     "collapsed": false,
     "input": [
      "def  valt_crit( m_in, m_out, e_out, inclination):\n",
      "    \"\"\"\n",
      "    Calculate the Valtoren stability criterion.\n",
      "    m_in and m_out are the outer and inner component mass (in the same units).\n",
      "    e_out is the eccentricity of the outer component.\n",
      "    inclination is the relative inclination of the orbits, in degrees.\n",
      "    \"\"\"\n",
      "    if e_out > 1:\n",
      "        print 'e_out > 1, it is not a closed system'\n",
      "        return -1.0\n",
      "    else:\n",
      "        cos_inclination = np.cos( np.radians(inclination) )\n",
      "        return 3. * (1. + m_out/m_in)**(2./3.) * (1. - e_out)**(-1./6.) * (7./4. - cos_inclination/2. - cos_inclination**2)**(1./3.)\n"
     ],
     "language": "python",
     "metadata": {},
     "outputs": [],
     "prompt_number": 8
    },
    {
     "cell_type": "heading",
     "level": 2,
     "metadata": {},
     "source": [
      "Case 1: Closest pair, B5-IRS1 and B5-Cond2"
     ]
    },
    {
     "cell_type": "markdown",
     "metadata": {},
     "source": [
      "Define variables needed in the calculations based on the objects properties"
     ]
    },
    {
     "cell_type": "code",
     "collapsed": false,
     "input": [
      "# YSO\n",
      "i=0\n",
      "r1=(np.array([ x_au[i], y_au[i], z_au[i]])*u.au).to(u.m)\n",
      "v1=(np.array([ 0, 0, v_c[i]])*u.km/u.s).to(u.m/u.s)\n",
      "m1=(mass[i]*u.solMass).to(u.kg)\n",
      "# B5-Cond2\n",
      "i=2\n",
      "r2=(np.array([ x_au[i], y_au[i], z_au[i]])*u.au).to(u.m)\n",
      "v2=(np.array([ 0, 0, v_c[i]])*u.km/u.s).to(u.m/u.s)\n",
      "m2=(mass[i]*u.solMass).to(u.kg)"
     ],
     "language": "python",
     "metadata": {},
     "outputs": [],
     "prompt_number": 9
    },
    {
     "cell_type": "markdown",
     "metadata": {},
     "source": [
      "Calculate binary orbit properties"
     ]
    },
    {
     "cell_type": "code",
     "collapsed": false,
     "input": [
      "print 'Original'\n",
      "sma,per,e,Etot = binary_orbit(v1,v2,r1,r2,m1,m2)"
     ],
     "language": "python",
     "metadata": {},
     "outputs": [
      {
       "output_type": "stream",
       "stream": "stdout",
       "text": [
        "Original\n",
        "|v_ij| 20.0 m / s\n",
        "|r_ij| 4.96552026021e+14 m\n",
        "E_bin= -4.13037758634e+33 J\n",
        "Angular momentum components [  9.80709904e+31   5.54575410e+29   0.00000000e+00] m4 / s2\n",
        "Total angular momentum 8.6561738794e+44 kg m2 / s\n"
       ]
      }
     ],
     "prompt_number": 10
    },
    {
     "cell_type": "code",
     "collapsed": false,
     "input": [
      "print sma.to(u.au), per.to(u.yr), e, Etot"
     ],
     "language": "python",
     "metadata": {},
     "outputs": [
      {
       "output_type": "stream",
       "stream": "stdout",
       "text": [
        "1666.62719851 AU 161248.43628 yr 0.991594329935 -4.13037758634e+33 J\n"
       ]
      }
     ],
     "prompt_number": 11
    },
    {
     "cell_type": "markdown",
     "metadata": {},
     "source": [
      "The binary system is bound"
     ]
    },
    {
     "cell_type": "heading",
     "level": 2,
     "metadata": {},
     "source": [
      "Case 2: Possible triple system, (B5-IRS1 + B5-Cond2) and B5-Cond1"
     ]
    },
    {
     "cell_type": "markdown",
     "metadata": {},
     "source": [
      "First calculate the center of mass properties for pair B5-IRS1 and B5-Cond2"
     ]
    },
    {
     "cell_type": "code",
     "collapsed": true,
     "input": [
      "x_com_YSO_Cond2= np.sum((x_au*mass)[[0,2]])/np.sum(mass[[0,2]])\n",
      "y_com_YSO_Cond2= np.sum((y_au*mass)[[0,2]])/np.sum(mass[[0,2]])\n",
      "z_com_YSO_Cond2= np.sum((z_au*mass)[[0,2]])/np.sum(mass[[0,2]])\n",
      "v_com_YSO_Cond2= np.sum((v_c *mass)[[0,2]])/np.sum(mass[[0,2]])\n",
      "mass_YSO_Cond2 = np.sum(mass[[0,2]])\n",
      "red_mass_YSO_Cond2 = 1./np.sum(1./mass[[0,2]])"
     ],
     "language": "python",
     "metadata": {},
     "outputs": [],
     "prompt_number": 12
    },
    {
     "cell_type": "code",
     "collapsed": false,
     "input": [
      "# YSO + B5-Cond2\n",
      "r1=(np.array([ x_com_YSO_Cond2, y_com_YSO_Cond2, z_com_YSO_Cond2])*u.au).to(u.m)\n",
      "v1=(np.array([ 0, 0, v_com_YSO_Cond2])*u.km/u.s).to(u.m/u.s)\n",
      "m1=(mass_YSO_Cond2*u.solMass).to(u.kg)\n",
      "m1_red=(red_mass_YSO_Cond2*u.solMass).to(u.kg)\n",
      "# B5-Cond1\n",
      "i=1\n",
      "r2=(np.array([ x_au[i], y_au[i], z_au[i]])*u.au).to(u.m)\n",
      "v2=(np.array([ 0, 0, v_c[i]])*u.km/u.s).to(u.m/u.s)\n",
      "m2=(mass[i]*u.solMass).to(u.kg)"
     ],
     "language": "python",
     "metadata": {},
     "outputs": [],
     "prompt_number": 13
    },
    {
     "cell_type": "code",
     "collapsed": false,
     "input": [
      "print 'Calculation using total mass for stability criterion'\n",
      "sma_triple,per_triple,e_triple,Etot_triple = binary_orbit(v1,v2,r1,r2,m1,m2)\n",
      "valt_triple=valt_crit(m1, m2, e_triple, 0.0)\n",
      "print sma_triple, per_triple, e_triple, Etot_triple, valt_triple\n",
      "print ''\n",
      "print '>>>stable if ', np.round(sma_triple/sma, decimals=2), '>', np.round(valt_triple, decimals=2)"
     ],
     "language": "python",
     "metadata": {},
     "outputs": [
      {
       "output_type": "stream",
       "stream": "stdout",
       "text": [
        "Calculation using total mass for stability criterion\n",
        "|v_ij| 211.235955056 m / s\n",
        "|r_ij| 1.58277859667e+15 m\n",
        "E_bin= -2.31716597294e+32 J\n",
        "Angular momentum components [  4.19893108e+34   6.97937567e+34   0.00000000e+00] m4 / s2\n",
        "Total angular momentum 4.48557652603e+46 kg m2 / s\n",
        "1.10141684661e+16 m 37312055.661 yr 0.856296133335 -2.31716597294e+32 J 3.58724168659\n",
        "\n",
        ">>>stable if  44.18 > 3.59\n"
       ]
      }
     ],
     "prompt_number": 14
    },
    {
     "cell_type": "code",
     "collapsed": false,
     "input": [
      "print 'Calculation using the reduced mass for stability criterion'\n",
      "sma_triple_red,per_triple_red,e_triple_red,Etot_triple_red = binary_orbit(v1,v2,r1,r2,m1_red,m2)\n",
      "valt_triple_red=valt_crit(m1_red, m2, e_triple_red, 0.0)\n",
      "print sma_triple_red,per_triple_red,e_triple_red,Etot_triple_red, valt_triple_red\n",
      "print ''\n",
      "print '>>>stable if ', np.round(sma_triple_red/sma, decimals=2), '>', np.round(valt_triple_red, decimals=2)"
     ],
     "language": "python",
     "metadata": {},
     "outputs": [
      {
       "output_type": "stream",
       "stream": "stdout",
       "text": [
        "Calculation using the reduced mass for stability criterion\n",
        "|v_ij| 211.235955056 m / s\n",
        "|r_ij| 1.58277859667e+15 m\n",
        "E_bin= 5.91642490696e+32 J\n",
        "Angular momentum components [  4.19893108e+34   6.97937567e+34   0.00000000e+00] m4 / s2\n",
        "Total angular momentum 2.07637818248e+46 kg m2 / s\n",
        "e_out > 1, it is not a closed system\n",
        "1.06195007186e+15 m 1531773.48091 yr 2.49044539722 5.91642490696e+32 J -1.0\n",
        "\n",
        ">>>stable if  4.26 > -1.0\n"
       ]
      }
     ],
     "prompt_number": 15
    },
    {
     "cell_type": "markdown",
     "metadata": {},
     "source": [
      "The system is bound, but it is not stable following the Valtoren criterion."
     ]
    },
    {
     "cell_type": "heading",
     "level": 2,
     "metadata": {},
     "source": [
      "Case 3: Possible triple system, (B5-IRS1 + B5-Cond2) and B5-Cond3"
     ]
    },
    {
     "cell_type": "code",
     "collapsed": false,
     "input": [
      "# YSO + B5-Cond2\n",
      "r1=(np.array([ x_com_YSO_Cond2, y_com_YSO_Cond2, z_com_YSO_Cond2])*u.au).to(u.m)\n",
      "v1=(np.array([ 0, 0, v_com_YSO_Cond2])*u.km/u.s).to(u.m/u.s)\n",
      "m1=(mass_YSO_Cond2*u.solMass).to(u.kg)\n",
      "m1_red=(red_mass_YSO_Cond2*u.solMass).to(u.kg)\n",
      "# B5-Cond3\n",
      "i=3\n",
      "r2=(np.array([ x_au[i], y_au[i], z_au[i]])*u.au).to(u.m)\n",
      "v2=(np.array([ 0, 0, v_c[i]])*u.km/u.s).to(u.m/u.s)\n",
      "m2=(mass[i]*u.solMass).to(u.kg)"
     ],
     "language": "python",
     "metadata": {},
     "outputs": [],
     "prompt_number": 16
    },
    {
     "cell_type": "code",
     "collapsed": false,
     "input": [
      "print 'Calculation using total mass for stability criterion'\n",
      "sma_triple,per_triple,e_triple,Etot_triple = binary_orbit(v1,v2,r1,r2,m1,m2)\n",
      "print 'Inclination of 0deg'\n",
      "valt_triple=valt_crit(m1, m2, e_triple, 0.0)\n",
      "print sma_triple, per_triple, e_triple, Etot_triple, valt_triple\n",
      "print 'Inclination of 45deg'\n",
      "valt_triple_45=valt_crit(m1, m2, e_triple, 45.0)\n",
      "print sma_triple, per_triple, e_triple, Etot_triple, valt_triple_45 \n",
      "\n",
      "print 'i=0'\n",
      "print '>>>stable if ', np.round(sma_triple/sma, decimals=2), '>', np.round(valt_triple, decimals=2)\n",
      "print 'i=45'\n",
      "print '>>>stable if ', np.round(sma_triple/sma, decimals=2), '>', np.round(valt_triple_45, decimals=2)"
     ],
     "language": "python",
     "metadata": {},
     "outputs": [
      {
       "output_type": "stream",
       "stream": "stdout",
       "text": [
        "Calculation using total mass for stability criterion\n",
        "|v_ij| 81.2359550562 m / s\n",
        "|r_ij| 9.08540762482e+14 m\n",
        "E_bin= -4.26360780597e+33 J\n",
        "Angular momentum components [  3.35401791e+33   2.09333379e+33   0.00000000e+00] m4 / s2\n",
        "Total angular momentum 8.77560451362e+45 kg m2 / s\n",
        "Inclination of 0deg\n",
        "4.96071518113e+14 m 368815.138941 yr 0.831471328849 -4.26360780597e+33 J 3.34040264856\n",
        "Inclination of 45deg\n",
        "4.96071518113e+14 m 368815.138941 yr 0.831471328849 -4.26360780597e+33 J 5.11281752061\n",
        "i=0\n",
        ">>>stable if  1.99 > 3.34\n",
        "i=45\n",
        ">>>stable if  1.99 > 5.11\n"
       ]
      }
     ],
     "prompt_number": 17
    },
    {
     "cell_type": "markdown",
     "metadata": {},
     "source": [
      "The system is bound, but the Valtonen criterion suggest the system is unstable."
     ]
    },
    {
     "cell_type": "code",
     "collapsed": false,
     "input": [
      "print 'Calculation using reduced mass for stability criterion'\n",
      "\n",
      "sma_triple_red,per_triple_red,e_triple_red,Etot_triple_red = binary_orbit(v1,v2,r1,r2,m1_red,m2)\n",
      "valt_triple_red=valt_crit(m1_red, m2, e_triple_red, 0.0)\n",
      "valt_triple_red_45=valt_crit(m1_red, m2, e_triple_red, 45.0)\n",
      "print sma_triple_red,per_triple_red,e_triple_red,Etot_triple_red, valt_triple_red, valt_triple_red_45\n",
      "print ''\n",
      "print 'i=0'\n",
      "print '>>>stable if ', np.round(sma_triple_red/sma, decimals=2), '>', np.round(valt_triple_red, decimals=2)\n",
      "print 'i=45'\n",
      "print '>>>stable if ', np.round(sma_triple_red/sma, decimals=2), '>', np.round(valt_triple_red_45, decimals=2)"
     ],
     "language": "python",
     "metadata": {},
     "outputs": [
      {
       "output_type": "stream",
       "stream": "stdout",
       "text": [
        "Calculation using reduced mass for stability criterion\n",
        "|v_ij| 81.2359550562 m / s\n",
        "|r_ij| 9.08540762482e+14 m\n",
        "E_bin= -9.52775816759e+32 J\n",
        "Angular momentum components [  3.35401791e+33   2.09333379e+33   0.00000000e+00] m4 / s2\n",
        "Total angular momentum 4.32657941945e+45 kg m2 / s\n",
        "5.46494020077e+14 m 603499.536713 yr 0.662489851864 -9.52775816759e+32 J 4.76743617974 7.29703385867\n",
        "\n",
        "i=0\n",
        ">>>stable if  2.19 > 4.77\n",
        "i=45\n",
        ">>>stable if  2.19 > 7.3\n"
       ]
      }
     ],
     "prompt_number": 18
    },
    {
     "cell_type": "markdown",
     "metadata": {},
     "source": [
      "The system is bound, but the Valtonen criterion suggest the system is unstable."
     ]
    }
   ],
   "metadata": {}
  }
 ]
}