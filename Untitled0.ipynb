{
 "metadata": {
  "name": "",
  "signature": "sha256:4a2794999e576cc369b13a9f8cd99009a15cef69eb8013a192a5fbd7661060e1"
 },
 "nbformat": 3,
 "nbformat_minor": 0,
 "worksheets": [
  {
   "cells": [
    {
     "cell_type": "code",
     "collapsed": false,
     "input": [
      "%matplotlib inline\n",
      "import numpy as np\n",
      "\n",
      "import aplpy\n",
      "\n",
      "import matplotlib.pyplot as plt\n",
      "from matplotlib import rc\n",
      "\n",
      "#rc('font',**{'family':'sans-serif','sans-serif':['Helvetica']})\n",
      "rc('font',**{'family':'Helvetica','sans-serif':['Helvetica']}) \n",
      "rc('text', usetex=True)"
     ],
     "language": "python",
     "metadata": {},
     "outputs": [],
     "prompt_number": 14
    },
    {
     "cell_type": "code",
     "collapsed": false,
     "input": [
      "fig, ax = plt.subplots(1, 2, figsize=(7.2,3))\n",
      "ax[0].plot([0.1,0.4,1.0], [2.3,10.,40], label='B5-Cond1', color='red')\n",
      "ax[0].text( 0.5, 25, \"$\\\\rho\\\\propto r^{-2}$\",fontsize=14)"
     ],
     "language": "python",
     "metadata": {},
     "outputs": [
      {
       "metadata": {},
       "output_type": "pyout",
       "prompt_number": 15,
       "text": [
        "<matplotlib.text.Text at 0x114e1c890>"
       ]
      },
      {
       "metadata": {},
       "output_type": "display_data",
       "png": "[encoded data removed]",
       "text": [
        "<matplotlib.figure.Figure at 0x114d54790>"
       ]
      }
     ],
     "prompt_number": 15
    },
    {
     "cell_type": "code",
     "collapsed": false,
     "input": [],
     "language": "python",
     "metadata": {},
     "outputs": []
    }
   ],
   "metadata": {}
  }
 ]
}